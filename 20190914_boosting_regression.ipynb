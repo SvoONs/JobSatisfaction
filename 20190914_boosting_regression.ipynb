{
 "cells": [
  {
   "cell_type": "code",
   "execution_count": 1,
   "metadata": {},
   "outputs": [],
   "source": [
    "%load_ext autoreload\n",
    "%autoreload 2\n",
    "%matplotlib inline"
   ]
  },
  {
   "cell_type": "code",
   "execution_count": 2,
   "metadata": {},
   "outputs": [],
   "source": [
    "import pandas as pd\n",
    "import numpy as np\n",
    "from pandas.api.types import is_string_dtype\n",
    "from pandas.api.types import is_categorical\n",
    "from sklearn.model_selection import train_test_split\n",
    "from sklearn.ensemble import RandomForestRegressor, RandomForestClassifier\n",
    "from sklearn.linear_model import LinearRegression\n",
    "from sklearn.neighbors import KNeighborsClassifier\n",
    "from sklearn.metrics import r2_score, mean_squared_error, mean_absolute_error, make_scorer\n",
    "from sklearn.cluster import KMeans\n",
    "import matplotlib.pyplot as plt\n",
    "import lightgbm as lgm\n",
    "import seaborn as sns\n",
    "from sklearn.model_selection import cross_val_score\n",
    "from sklearn.model_selection import GridSearchCV\n",
    "from sklearn import metrics\n",
    "import scipy\n",
    "from scipy.cluster import hierarchy as hc"
   ]
  },
  {
   "cell_type": "code",
   "execution_count": 3,
   "metadata": {},
   "outputs": [],
   "source": [
    "# used functionality \n",
    "\n",
    "def mad(x,y): return sum(abs(x-y))/len(x)\n",
    "\n",
    "def handle_multi_string_columns(df, column, single_strings):\n",
    "    '''\n",
    "    Replaces column whose fields contain several strings with new columns. Each\n",
    "    new column will then represent a single string\n",
    "    \n",
    "    INPUT:\n",
    "    df - the pandas dataframe you want to search\n",
    "    column - the column name you want to look through\n",
    "    single_strings - a list of strings you want to search for in each row of df[col]\n",
    "\n",
    "    OUTPUT:\n",
    "    new_df - The dataframe without the multi-string column but with the newly created columns\n",
    "    col_dict - Dictionary translating names of the new columns to their corresponding string\n",
    "    '''\n",
    "    \n",
    "    #collects new columns of indicating if a certain index refers to a string \n",
    "    new_columns = dict()\n",
    "    \n",
    "    #dict column name -> string name\n",
    "    col_dict = dict()\n",
    "    \n",
    "    #loop through list of strings\n",
    "    counter = 0\n",
    "    for string in single_strings:\n",
    "        bool_list = []\n",
    "        #loop through rows\n",
    "        for idx in range(df.shape[0]):\n",
    "            #if the ed type is in the row set to True\n",
    "            if string in str(df[column][idx]):\n",
    "                bool_list.append(1)\n",
    "            else:\n",
    "                bool_list.append(0)\n",
    "        col_name = column + \"_\" + str(counter)\n",
    "        new_columns[col_name] = bool_list\n",
    "        col_dict[col_name] = string\n",
    "        counter = counter + 1\n",
    "    \n",
    "    new_df = df.drop(column,axis=1)\n",
    "    \n",
    "    new_df = pd.concat([new_df, pd.DataFrame(data=new_columns, index = df.index, dtype=int)], axis=1)\n",
    "    \n",
    "    return new_df, col_dict\n",
    "\n",
    "\n",
    "def rf_feat_importance(m, df):\n",
    "    return pd.DataFrame({'cols':df.columns, 'imp':m.feature_importances_}).sort_values('imp', ascending=False)\n",
    "\n",
    "def plot_fi(fi): return fi.plot('cols', 'imp', 'barh', figsize=(12,7), legend=False)\n",
    "\n",
    "def mean_absolute_error_2(y_true, y_pred):\n",
    "    return mean_absolute_error(y_true, np.round(y_pred))\n",
    "\n",
    "\n",
    "def classification(y_train, y_test_preds):\n",
    "    y_train_min = np.min(y_train)\n",
    "    y_train_max = np.max(y_train)\n",
    "    total_distance = y_train_max - y_train_min\n",
    "    point_0 = y_train_min + total_distance * np.sum(y_train == 0) / len(y_train)\n",
    "    point_1 = point_0 + total_distance * np.sum(y_train == 1) / len(y_train)\n",
    "    point_2 = point_1 + total_distance * np.sum(y_train == 2) / len(y_train)\n",
    "    point_3 = point_2 + total_distance * np.sum(y_train == 3) / len(y_train)\n",
    "    point_4 = y_train_max\n",
    "    \n",
    "    for i in range(len(y_test_preds)):\n",
    "        if y_test_preds[i] <= point_0:\n",
    "            y_test_preds[i] = 0\n",
    "        elif y_test_preds[i] <= point_1:\n",
    "            y_test_preds[i] = 1\n",
    "        elif y_test_preds[i] <= point_2:\n",
    "            y_test_preds[i] = 2\n",
    "        elif y_test_preds[i] <= point_3:\n",
    "            y_test_preds[i] = 3\n",
    "        elif y_test_preds[i] <= point_4:\n",
    "            y_test_preds[i] = 4\n",
    "        else:\n",
    "            print(\"An error occurred!\")\n",
    "            break\n",
    "    \n",
    "        return y_test_preds"
   ]
  },
  {
   "cell_type": "code",
   "execution_count": 4,
   "metadata": {},
   "outputs": [],
   "source": [
    "df_raw = pd.read_csv('data/survey_results_public.csv', low_memory=False)\n",
    "schema = pd.read_csv('data/survey_results_schema.csv')"
   ]
  },
  {
   "cell_type": "code",
   "execution_count": 5,
   "metadata": {},
   "outputs": [],
   "source": [
    "df = df_raw.dropna(subset=['JobSat'], axis=0)\n",
    "df = df[df.Employment.isin(['Employed full-time', 'Employed part-time'])]\n",
    "df = df[df.Student == 'No']\n",
    "df = df.drop(['CareerSat','Respondent','ResumeUpdate','CurrencySymbol','CurrencyDesc','CompTotal','SurveyEase','SurveyLength','SONewContent','WelcomeChange','SOComm','EntTeams','SOVisit1st',\n",
    "                 'SOVisitFreq', 'SOVisitTo', 'SOFindAnswer', 'SOTimeSaved', 'SOHowMuchTime', 'SOAccount','SOPartFreq', 'SOJobs', 'LanguageWorkedWith', 'LanguageDesireNextYear',\n",
    "                 'DatabaseWorkedWith', 'DatabaseDesireNextYear', 'PlatformWorkedWith', 'PlatformDesireNextYear', 'WebFrameWorkedWith', 'WebFrameDesireNextYear', 'MiscTechWorkedWith', \n",
    "                 'MiscTechDesireNextYear', 'DevEnviron','Student','Ethnicity','JobSeek','MgrIdiot'], axis=1)\n",
    "df = df.dropna(thresh=45)\n",
    "df = df.reset_index(drop=True)"
   ]
  },
  {
   "cell_type": "code",
   "execution_count": 6,
   "metadata": {},
   "outputs": [],
   "source": [
    "EduOther_strings = ['Taken an online course in programming or software development (e.g. a MOOC)','Participated in a fulltime developer training program or bootcamp',\n",
    "                    'Taken a part-time in-person course in programming or software development','Completed an industry certification program (e.g. MCPD)',\n",
    "                    'Received on-the-job training in software development','Taught yourself a new language, framework, or tool without taking a formal course',\n",
    "                    'Participated in online coding competitions (e.g. HackerRank, CodeChef, TopCoder)','Participated in a hackathon','Contributed to open source software',\n",
    "                    'None of these']\n",
    "\n",
    "DevType_strings = ['Academic researcher','Data or business analyst','Data scientist or machine learning specialist','Database administrator','Designer','Developer, back-end',\n",
    "                   'Developer, desktop or enterprise applications','Developer, embedded applications or devices','Developer, front-end','Developer, full-stack',\n",
    "                   'Developer, game or graphics','Developer, mobile','Developer, QA or test','DevOps specialist','Educator','Engineer, data','Engineer, site reliability',\n",
    "                   'Engineering manager','Marketing or sales professional','Product manager','Scientist',\"Senior Executive (C-Suite, VP, etc.)\", 'Student', 'System administrator']\n",
    "\n",
    "LastInt_strings = ['Write any code','Write code by hand (e.g., on a whiteboard)','Complete a take-home project','Solve a brain-teaser style puzzle','Interview with people in peer roles',\n",
    "                   'Interview with people in senior / management roles']\n",
    "\n",
    "WorkChallenge_strings = ['Distracting work environment','Being tasked with non-development work','Meetings','Time spent commuting','Not enough people for the workload',\n",
    "                         'Toxic work environment','Inadequate access to necessary tools','Lack of support from management','Non-work commitments (parenting, school work, hobbies, etc.)']\n",
    "\n",
    "JobFactors_strings = ['Diversity of the company or organization',\"Languages, frameworks, and other technologies I'd be working with\",\"Industry that I'd be working in\",\n",
    "                      'How widely used or impactful my work output would be',\"Specific department or team I'd be working on\",'Flex time or a flexible schedule',\n",
    "                      'Remote work options','Financial performance or funding status of the company or organization','Office environment or company culture',\n",
    "                      'Opportunities for professional development']\n",
    "\n",
    "df, dict_EduOther = handle_multi_string_columns(df,\"EduOther\",EduOther_strings)\n",
    "df, dict_DevType = handle_multi_string_columns(df,\"DevType\",DevType_strings)\n",
    "df, dict_LastInt = handle_multi_string_columns(df,\"LastInt\",LastInt_strings)\n",
    "df, dict_WorkChallenge = handle_multi_string_columns(df,\"WorkChallenge\",WorkChallenge_strings)\n",
    "df, dict_JobFactors = handle_multi_string_columns(df,\"JobFactors\",JobFactors_strings)"
   ]
  },
  {
   "cell_type": "code",
   "execution_count": 7,
   "metadata": {},
   "outputs": [],
   "source": [
    "for n,c in df.items():\n",
    "        if is_string_dtype(c): df[n] = c.astype('category').cat.as_ordered()\n",
    "\n",
    "df.JobSat.cat.set_categories(['Very dissatisfied','Slightly dissatisfied','Neither satisfied nor dissatisfied','Slightly satisfied', 'Very satisfied'], ordered=True, inplace=True)\n",
    "#df.JobSeek.cat.set_categories(['I am not interested in new job opportunities','I’m not actively looking, but I am open to new opportunities','I am actively looking for a job'], ordered=True, inplace=True)"
   ]
  },
  {
   "cell_type": "code",
   "execution_count": 8,
   "metadata": {},
   "outputs": [],
   "source": [
    "df_indicator = df.isnull().astype(int).add_suffix('_nan')\n",
    "df = pd.concat([df, df_indicator], axis=1)"
   ]
  },
  {
   "cell_type": "code",
   "execution_count": 9,
   "metadata": {},
   "outputs": [],
   "source": [
    "cat_columns = df.select_dtypes(['category']).columns\n",
    "df[cat_columns] = df[cat_columns].apply(lambda x: x.cat.codes)\n",
    "\n",
    "fill_mean = lambda col: col.fillna(col.mean())\n",
    "# Fill the mean\n",
    "df = df.apply(fill_mean, axis=0)"
   ]
  },
  {
   "cell_type": "code",
   "execution_count": 10,
   "metadata": {},
   "outputs": [],
   "source": [
    "#Drop columns with all NaN values\n",
    "df = df.dropna(how='all', axis=0)\n",
    "df = df.dropna(how='all', axis=1)\n",
    "#delete columns that add up to 0\n",
    "df = df.loc[:, (df != 0).any(axis=0)]"
   ]
  },
  {
   "cell_type": "code",
   "execution_count": 11,
   "metadata": {},
   "outputs": [],
   "source": [
    "X = df.drop(['JobSat'], axis=1)\n",
    "y = df['JobSat']\n",
    "\n",
    "X_train, X_test_valid, y_train, y_test_valid = train_test_split(X, y, test_size=0.4, random_state=14)\n",
    "X_test, X_valid, y_test, y_valid = train_test_split(X_test_valid, y_test_valid, test_size=0.5, random_state=14)"
   ]
  },
  {
   "cell_type": "code",
   "execution_count": 12,
   "metadata": {},
   "outputs": [
    {
     "name": "stdout",
     "output_type": "stream",
     "text": [
      "best mean cross-validation score: 0.158\n",
      "best parameters: {'learning_rate': 0.1, 'max_bin': 255, 'num_leaves': 8}\n",
      "test-set score: 0.164\n"
     ]
    }
   ],
   "source": [
    "# Grid search for good parameters, I used the mean absolute error as the main measure of quality\n",
    "param_grid = {'num_leaves': [8,10,20,31],\n",
    "              'learning_rate': [0.09, 0.1, 0.11, 0.12,0.15],\n",
    "              'max_bin': [255, 270, 280]}\n",
    "grid = GridSearchCV(lgm.LGBMRegressor(), param_grid=param_grid,cv=5, return_train_score=True)\n",
    "X_train_grit = X_train.sample(frac=0.5, random_state=42)\n",
    "grid.fit(X_train_grit, y_train.loc[X_train_grit.index])\n",
    "print(\"best mean cross-validation score: {:.3f}\".format(grid.best_score_))\n",
    "print(\"best parameters: {}\".format(grid.best_params_))\n",
    "print(\"test-set score: {:.3f}\".format(grid.score(X_test, y_test)))"
   ]
  },
  {
   "cell_type": "code",
   "execution_count": 13,
   "metadata": {},
   "outputs": [
    {
     "data": {
      "text/plain": [
       "LGBMRegressor(boosting_type='gbdt', class_weight=None, colsample_bytree=1.0,\n",
       "              importance_type='split', learning_rate=0.1, max_bin=255,\n",
       "              max_depth=-1, min_child_samples=20, min_child_weight=0.001,\n",
       "              min_split_gain=0.0, n_estimators=300, n_jobs=-1, num_leaves=8,\n",
       "              objective=None, random_state=None, reg_alpha=0.0, reg_lambda=0.0,\n",
       "              silent=True, subsample=1.0, subsample_for_bin=200000,\n",
       "              subsample_freq=0)"
      ]
     },
     "execution_count": 13,
     "metadata": {},
     "output_type": "execute_result"
    }
   ],
   "source": [
    "model = lgm.LGBMRegressor(n_estimators=300, \n",
    "                          num_leaves=grid.best_params_['num_leaves'],\n",
    "                          learning_rate=grid.best_params_['learning_rate'],\n",
    "                          max_bin=grid.best_params_['max_bin'])\n",
    "model.fit(X_train, y_train)"
   ]
  },
  {
   "cell_type": "code",
   "execution_count": 18,
   "metadata": {},
   "outputs": [
    {
     "name": "stdout",
     "output_type": "stream",
     "text": [
      "Multiplier: 1.36\n",
      "Scalar: -0.75\n",
      "The rsquared on the training data was 0.2525598379867674.  The rsquared on the test data was 0.17852236359557638.\n",
      "The mad on the training data was 0.7955611692529773.  The mad on the test data was 0.8980188372848328.\n"
     ]
    }
   ],
   "source": [
    "#Predict using your model\n",
    "y_test_preds = model.predict(X_test)\n",
    "y_train_preds =model.predict(X_train)\n",
    "#Score using your model\n",
    "test_r2 = r2_score(y_test, y_test_preds)\n",
    "train_r2 = r2_score(y_train, y_train_preds)\n",
    "# train_mad = mad(y_train, classification(y_train, y_train_preds))\n",
    "# test_mad = mad(y_test, classification(y_train, y_test_preds))\n",
    "\n",
    "correct = lambda x, multi, add: multi * x + add\n",
    "corrector = 0 \n",
    "train_mad = 1\n",
    "for add in range(-100, 100):\n",
    "    for multi in range (0, 200):\n",
    "        new_mad = mad(y_train, np.round(correct(y_train_preds, multi/100, add/100)))\n",
    "        if new_mad < train_mad:\n",
    "            train_mad = new_mad\n",
    "            multi_final = multi / 100\n",
    "            add_final = add / 100\n",
    "\n",
    "test_mad = mad(y_test, np.round(correct(y_test_preds, multi_final,add_final)))\n",
    "\n",
    "print(\"Multiplier: {}\".format(multi_final))\n",
    "print(\"Scalar: {}\".format(add_final))\n",
    "print(\"The rsquared on the training data was {}.  The rsquared on the test data was {}.\".format(train_r2, test_r2))\n",
    "print(\"The mad on the training data was {}.  The mad on the test data was {}.\".format(train_mad, test_mad))"
   ]
  },
  {
   "cell_type": "code",
   "execution_count": 15,
   "metadata": {},
   "outputs": [
    {
     "data": {
      "text/plain": [
       "[654, 1441, 1012, 3214, 2916]"
      ]
     },
     "execution_count": 15,
     "metadata": {},
     "output_type": "execute_result"
    }
   ],
   "source": [
    "[np.sum(y_test == 0) , np.sum(y_test == 1), np.sum(y_test == 2), np.sum(y_test == 3), np.sum(y_test == 4)]"
   ]
  },
  {
   "cell_type": "code",
   "execution_count": 17,
   "metadata": {},
   "outputs": [
    {
     "data": {
      "text/plain": [
       "[4, 241, 2175, 4723, 2090]"
      ]
     },
     "execution_count": 17,
     "metadata": {},
     "output_type": "execute_result"
    }
   ],
   "source": [
    "[np.sum(np.round(correct(y_test_preds, multi_final,add_final)) == 0) , np.sum(np.round(correct(y_test_preds, multi_final,add_final)) == 1), np.sum(np.round(correct(y_test_preds, multi_final,add_final)) == 2), np.sum(np.round(correct(y_test_preds, multi_final,add_final)) == 3), np.sum(np.round(correct(y_test_preds, multi_final,add_final)) == 4)]"
   ]
  },
  {
   "cell_type": "code",
   "execution_count": 19,
   "metadata": {},
   "outputs": [
    {
     "data": {
      "text/plain": [
       "[0, 123, 2909, 5849, 356]"
      ]
     },
     "execution_count": 19,
     "metadata": {},
     "output_type": "execute_result"
    }
   ],
   "source": [
    "[np.sum(np.round(y_test_preds) == 0) , np.sum(np.round(y_test_preds) == 1), np.sum(np.round(y_test_preds) == 2), np.sum(np.round(y_test_preds) == 3), np.sum(np.round(y_test_preds) == 4)]"
   ]
  }
 ],
 "metadata": {
  "kernelspec": {
   "display_name": "Python 3",
   "language": "python",
   "name": "python3"
  },
  "language_info": {
   "codemirror_mode": {
    "name": "ipython",
    "version": 3
   },
   "file_extension": ".py",
   "mimetype": "text/x-python",
   "name": "python",
   "nbconvert_exporter": "python",
   "pygments_lexer": "ipython3",
   "version": "3.6.8"
  }
 },
 "nbformat": 4,
 "nbformat_minor": 4
}
