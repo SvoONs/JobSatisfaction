{
 "cells": [
  {
   "cell_type": "code",
   "execution_count": 1,
   "metadata": {},
   "outputs": [],
   "source": [
    "%load_ext autoreload\n",
    "%autoreload 2\n",
    "%matplotlib inline"
   ]
  },
  {
   "cell_type": "code",
   "execution_count": 18,
   "metadata": {},
   "outputs": [],
   "source": [
    "import pandas as pd\n",
    "import numpy as np\n",
    "from pandas.api.types import is_string_dtype\n",
    "from pandas.api.types import is_categorical\n",
    "from sklearn.model_selection import train_test_split\n",
    "from sklearn.ensemble import RandomForestRegressor, RandomForestClassifier\n",
    "from sklearn.linear_model import LinearRegression\n",
    "from sklearn.neighbors import KNeighborsClassifier\n",
    "from sklearn.metrics import r2_score, mean_squared_error, mean_absolute_error, make_scorer\n",
    "from sklearn.cluster import KMeans\n",
    "import matplotlib.pyplot as plt\n",
    "import lightgbm as lgm\n",
    "import seaborn as sns\n",
    "from sklearn.model_selection import cross_val_score\n",
    "from sklearn.model_selection import GridSearchCV\n",
    "from sklearn import metrics\n",
    "import scipy\n",
    "from scipy.cluster import hierarchy as hc"
   ]
  },
  {
   "cell_type": "code",
   "execution_count": 3,
   "metadata": {},
   "outputs": [],
   "source": [
    "# used functionality \n",
    "\n",
    "def mad(x,y): return sum(abs(x-y))/len(x)\n",
    "\n",
    "def handle_multi_string_columns(df, column, single_strings):\n",
    "    '''\n",
    "    Replaces column whose fields contain several strings with new columns. Each\n",
    "    new column will then represent a single string\n",
    "    \n",
    "    INPUT:\n",
    "    df - the pandas dataframe you want to search\n",
    "    column - the column name you want to look through\n",
    "    single_strings - a list of strings you want to search for in each row of df[col]\n",
    "\n",
    "    OUTPUT:\n",
    "    new_df - The dataframe without the multi-string column but with the newly created columns\n",
    "    col_dict - Dictionary translating names of the new columns to their corresponding string\n",
    "    '''\n",
    "    \n",
    "    #collects new columns of indicating if a certain index refers to a string \n",
    "    new_columns = dict()\n",
    "    \n",
    "    #dict column name -> string name\n",
    "    col_dict = dict()\n",
    "    \n",
    "    #loop through list of strings\n",
    "    counter = 0\n",
    "    for string in single_strings:\n",
    "        bool_list = []\n",
    "        #loop through rows\n",
    "        for idx in range(df.shape[0]):\n",
    "            #if the ed type is in the row set to True\n",
    "            if string in str(df[column][idx]):\n",
    "                bool_list.append(1)\n",
    "            else:\n",
    "                bool_list.append(0)\n",
    "        col_name = column + \"_\" + str(counter)\n",
    "        new_columns[col_name] = bool_list\n",
    "        col_dict[col_name] = string\n",
    "        counter = counter + 1\n",
    "    \n",
    "    new_df = df.drop(column,axis=1)\n",
    "    \n",
    "    new_df = pd.concat([new_df, pd.DataFrame(data=new_columns, index = df.index, dtype=int)], axis=1)\n",
    "    \n",
    "    return new_df, col_dict\n",
    "\n",
    "\n",
    "def rf_feat_importance(m, df):\n",
    "    return pd.DataFrame({'cols':df.columns, 'imp':m.feature_importances_}).sort_values('imp', ascending=False)\n",
    "\n",
    "def plot_fi(fi): return fi.plot('cols', 'imp', 'barh', figsize=(12,7), legend=False)\n",
    "\n",
    "def mean_absolute_error_2(y_true, y_pred):\n",
    "    return mean_absolute_error(y_true, np.round(y_pred))\n",
    "\n",
    "\n",
    "def classification(y_train, y_test_preds):\n",
    "    y_train_min = np.min(y_train)\n",
    "    y_train_max = np.max(y_train)\n",
    "    total_distance = y_train_max - y_train_min\n",
    "    point_0 = y_train_min + total_distance * np.sum(y_train == 0) / len(y_train)\n",
    "    point_1 = point_0 + total_distance * np.sum(y_train == 1) / len(y_train)\n",
    "    point_2 = point_1 + total_distance * np.sum(y_train == 2) / len(y_train)\n",
    "    point_3 = point_2 + total_distance * np.sum(y_train == 3) / len(y_train)\n",
    "    point_4 = y_train_max\n",
    "    \n",
    "    for i in range(len(y_test_preds)):\n",
    "        if y_test_preds[i] <= point_0:\n",
    "            y_test_preds[i] = 0\n",
    "        elif y_test_preds[i] <= point_1:\n",
    "            y_test_preds[i] = 1\n",
    "        elif y_test_preds[i] <= point_2:\n",
    "            y_test_preds[i] = 2\n",
    "        elif y_test_preds[i] <= point_3:\n",
    "            y_test_preds[i] = 3\n",
    "        elif y_test_preds[i] <= point_4:\n",
    "            y_test_preds[i] = 4\n",
    "        else:\n",
    "            print(\"An error occurred!\")\n",
    "            break\n",
    "    \n",
    "        return y_test_preds"
   ]
  },
  {
   "cell_type": "code",
   "execution_count": 4,
   "metadata": {},
   "outputs": [],
   "source": [
    "df_raw = pd.read_csv('./developer_survey_2019/survey_results_public.csv', low_memory=False)\n",
    "schema = pd.read_csv('./developer_survey_2019/survey_results_schema.csv')"
   ]
  },
  {
   "cell_type": "code",
   "execution_count": 5,
   "metadata": {},
   "outputs": [],
   "source": [
    "df = df_raw.dropna(subset=['JobSat'], axis=0)\n",
    "df = df[df.Employment.isin(['Employed full-time', 'Independent contractor, freelancer, or self-employed', 'Employed part-time'])]\n",
    "df = df[df.Student == 'No']\n",
    "df = df.drop(['Respondent','ResumeUpdate','CurrencySymbol','CurrencyDesc','CompTotal','SurveyEase','SurveyLength','SONewContent','WelcomeChange','SOComm','EntTeams','SOVisit1st',\n",
    "                 'SOVisitFreq', 'SOVisitTo', 'SOFindAnswer', 'SOTimeSaved', 'SOHowMuchTime', 'SOAccount','SOPartFreq', 'SOJobs', 'LanguageWorkedWith', 'LanguageDesireNextYear',\n",
    "                 'DatabaseWorkedWith', 'DatabaseDesireNextYear', 'PlatformWorkedWith', 'PlatformDesireNextYear', 'WebFrameWorkedWith', 'WebFrameDesireNextYear', 'MiscTechWorkedWith', \n",
    "                 'MiscTechDesireNextYear', 'DevEnviron','Student','Ethnicity','JobSeek'], axis=1)\n",
    "df = df.dropna(thresh=45)\n",
    "df = df.reset_index(drop=True)"
   ]
  },
  {
   "cell_type": "code",
   "execution_count": 6,
   "metadata": {},
   "outputs": [],
   "source": [
    "EduOther_strings = ['Taken an online course in programming or software development (e.g. a MOOC)','Participated in a fulltime developer training program or bootcamp',\n",
    "                    'Taken a part-time in-person course in programming or software development','Completed an industry certification program (e.g. MCPD)',\n",
    "                    'Received on-the-job training in software development','Taught yourself a new language, framework, or tool without taking a formal course',\n",
    "                    'Participated in online coding competitions (e.g. HackerRank, CodeChef, TopCoder)','Participated in a hackathon','Contributed to open source software',\n",
    "                    'None of these']\n",
    "\n",
    "DevType_strings = ['Academic researcher','Data or business analyst','Data scientist or machine learning specialist','Database administrator','Designer','Developer, back-end',\n",
    "                   'Developer, desktop or enterprise applications','Developer, embedded applications or devices','Developer, front-end','Developer, full-stack',\n",
    "                   'Developer, game or graphics','Developer, mobile','Developer, QA or test','DevOps specialist','Educator','Engineer, data','Engineer, site reliability',\n",
    "                   'Engineering manager','Marketing or sales professional','Product manager','Scientist',\"Senior Executive (C-Suite, VP, etc.)\", 'Student', 'System administrator']\n",
    "\n",
    "LastInt_strings = ['Write any code','Write code by hand (e.g., on a whiteboard)','Complete a take-home project','Solve a brain-teaser style puzzle','Interview with people in peer roles',\n",
    "                   'Interview with people in senior / management roles']\n",
    "\n",
    "WorkChallenge_strings = ['Distracting work environment','Being tasked with non-development work','Meetings','Time spent commuting','Not enough people for the workload',\n",
    "                         'Toxic work environment','Inadequate access to necessary tools','Lack of support from management','Non-work commitments (parenting, school work, hobbies, etc.)']\n",
    "\n",
    "JobFactors_strings = ['Diversity of the company or organization',\"Languages, frameworks, and other technologies I'd be working with\",\"Industry that I'd be working in\",\n",
    "                      'How widely used or impactful my work output would be',\"Specific department or team I'd be working on\",'Flex time or a flexible schedule',\n",
    "                      'Remote work options','Financial performance or funding status of the company or organization','Office environment or company culture',\n",
    "                      'Opportunities for professional development']\n",
    "\n",
    "df, dict_EduOther = handle_multi_string_columns(df,\"EduOther\",EduOther_strings)\n",
    "df, dict_DevType = handle_multi_string_columns(df,\"DevType\",DevType_strings)\n",
    "df, dict_LastInt = handle_multi_string_columns(df,\"LastInt\",LastInt_strings)\n",
    "df, dict_WorkChallenge = handle_multi_string_columns(df,\"WorkChallenge\",WorkChallenge_strings)\n",
    "df, dict_JobFactors = handle_multi_string_columns(df,\"JobFactors\",JobFactors_strings)"
   ]
  },
  {
   "cell_type": "code",
   "execution_count": 7,
   "metadata": {},
   "outputs": [],
   "source": [
    "for n,c in df.items():\n",
    "        if is_string_dtype(c): df[n] = c.astype('category').cat.as_ordered()\n",
    "\n",
    "df.JobSat.cat.set_categories(['Very dissatisfied','Slightly dissatisfied','Neither satisfied nor dissatisfied','Slightly satisfied', 'Very satisfied'], ordered=True, inplace=True)\n",
    "df.CareerSat.cat.set_categories(['Very dissatisfied','Slightly dissatisfied','Neither satisfied nor dissatisfied','Slightly satisfied', 'Very satisfied'], ordered=True, inplace=True)\n",
    "#df.JobSeek.cat.set_categories(['I am not interested in new job opportunities','I’m not actively looking, but I am open to new opportunities','I am actively looking for a job'], ordered=True, inplace=True)"
   ]
  },
  {
   "cell_type": "code",
   "execution_count": 8,
   "metadata": {},
   "outputs": [],
   "source": [
    "df_indicator = df.isnull().astype(int).add_suffix('_nan')\n",
    "df = pd.concat([df, df_indicator], axis=1)"
   ]
  },
  {
   "cell_type": "code",
   "execution_count": 9,
   "metadata": {},
   "outputs": [],
   "source": [
    "cat_columns = df.select_dtypes(['category']).columns\n",
    "df[cat_columns] = df[cat_columns].apply(lambda x: x.cat.codes)\n",
    "\n",
    "fill_mean = lambda col: col.fillna(col.mean())\n",
    "# Fill the mean\n",
    "df = df.apply(fill_mean, axis=0)"
   ]
  },
  {
   "cell_type": "code",
   "execution_count": 10,
   "metadata": {},
   "outputs": [],
   "source": [
    "#Drop columns with all NaN values\n",
    "df = df.dropna(how='all', axis=0)\n",
    "df = df.dropna(how='all', axis=1)\n",
    "#delete columns that add up to 0\n",
    "df = df.loc[:, (df != 0).any(axis=0)]"
   ]
  },
  {
   "cell_type": "code",
   "execution_count": 64,
   "metadata": {},
   "outputs": [],
   "source": [
    "X = df.drop(['JobSat','CareerSat'], axis=1)\n",
    "y = df['JobSat']\n",
    "\n",
    "X_train, X_test_valid, y_train, y_test_valid = train_test_split(X, y, test_size=0.25, random_state=42)\n",
    "X_test, X_valid, y_test, y_valid = train_test_split(X_test_valid, y_test_valid, test_size=0.25, random_state=42)"
   ]
  },
  {
   "cell_type": "code",
   "execution_count": 66,
   "metadata": {},
   "outputs": [
    {
     "data": {
      "text/plain": [
       "LGBMRegressor(boosting_type='gbdt', class_weight=None, colsample_bytree=1.0,\n",
       "              importance_type='split', learning_rate=0.1, max_depth=-1,\n",
       "              min_child_samples=20, min_child_weight=0.001, min_split_gain=0.0,\n",
       "              n_estimators=100, n_jobs=-1, num_leaves=31, objective=None,\n",
       "              random_state=None, reg_alpha=0.0, reg_lambda=0.0, silent=True,\n",
       "              subsample=1.0, subsample_for_bin=200000, subsample_freq=0)"
      ]
     },
     "execution_count": 66,
     "metadata": {},
     "output_type": "execute_result"
    }
   ],
   "source": [
    "model = lgm.LGBMRegressor()\n",
    "model.fit(X_train, y_train)"
   ]
  },
  {
   "cell_type": "code",
   "execution_count": 67,
   "metadata": {},
   "outputs": [
    {
     "name": "stdout",
     "output_type": "stream",
     "text": [
      "0.2\n",
      "The rsquared on the training data was 0.32442113275290263.  The rsquared on the test data was 0.24284373469653542.\n",
      "The mad on the training data was 0.7565754159957059.  The mad on the test data was 0.8264090177133655.\n"
     ]
    }
   ],
   "source": [
    "#Predict using your model\n",
    "y_test_preds = model.predict(X_test)\n",
    "y_train_preds =model.predict(X_train)\n",
    "#Score using your model\n",
    "test_r2 = r2_score(y_test, y_test_preds)\n",
    "train_r2 = r2_score(y_train, y_train_preds)\n",
    "# train_mad = mad(y_train, classification(y_train, y_train_preds))\n",
    "# test_mad = mad(y_test, classification(y_train, y_test_preds))\n",
    "\n",
    "corrector = 0 \n",
    "train_mad = 1\n",
    "for i in range(0, 10):\n",
    "    new_mad = mad(y_train, np.round(y_train_preds + i/10))\n",
    "    if new_mad < train_mad:\n",
    "        train_mad = new_mad\n",
    "        corrector = i / 10 \n",
    "\n",
    "test_mad = mad(y_test, np.round(y_test_preds + corrector))\n",
    "\n",
    "print(corrector)\n",
    "print(\"The rsquared on the training data was {}.  The rsquared on the test data was {}.\".format(train_r2, test_r2))\n",
    "print(\"The mad on the training data was {}.  The mad on the test data was {}.\".format(train_mad, test_mad))"
   ]
  },
  {
   "cell_type": "code",
   "execution_count": null,
   "metadata": {},
   "outputs": [],
   "source": []
  },
  {
   "cell_type": "code",
   "execution_count": null,
   "metadata": {},
   "outputs": [],
   "source": []
  },
  {
   "cell_type": "code",
   "execution_count": null,
   "metadata": {},
   "outputs": [],
   "source": []
  },
  {
   "cell_type": "code",
   "execution_count": null,
   "metadata": {},
   "outputs": [],
   "source": []
  },
  {
   "cell_type": "code",
   "execution_count": 68,
   "metadata": {},
   "outputs": [],
   "source": [
    "y_g_0 = y.apply(lambda k: 0 if k<=0 else 1) # probability greater 0\n",
    "y_g_1 = y.apply(lambda k: 0 if k<=1 else 1) # probability greater 1\n",
    "y_g_2 = y.apply(lambda k: 0 if k<=2 else 1) # probability greater 2\n",
    "y_g_3 = y.apply(lambda k: 0 if k<=3 else 1) # probability greater 3\n",
    "\n",
    "y_g_0_train = y_g_0.loc[y_train.index]\n",
    "y_g_1_train = y_g_1.loc[y_train.index]\n",
    "y_g_2_train = y_g_2.loc[y_train.index]\n",
    "y_g_3_train = y_g_3.loc[y_train.index]\n",
    "\n",
    "y_g_0_test = y_g_0.loc[y_test.index]\n",
    "y_g_1_test = y_g_1.loc[y_test.index]\n",
    "y_g_2_test = y_g_2.loc[y_test.index]\n",
    "y_g_3_test = y_g_3.loc[y_test.index]\n",
    "\n",
    "y_g_0_valid = y_g_0.loc[y_valid.index]\n",
    "y_g_1_valid = y_g_1.loc[y_valid.index]\n",
    "y_g_2_valid = y_g_2.loc[y_valid.index]\n",
    "y_g_3_valid = y_g_3.loc[y_valid.index]"
   ]
  },
  {
   "cell_type": "code",
   "execution_count": 69,
   "metadata": {},
   "outputs": [
    {
     "name": "stdout",
     "output_type": "stream",
     "text": [
      "The rsquared on the training data was 0.23986472579040952.  The rsquared on the test data was 0.054098208088479094.\n",
      "The mad on the training data was 0.06113794954374664.  The mad on the test data was 0.07063875469672572.\n"
     ]
    }
   ],
   "source": [
    "model_0 = lgm.LGBMRegressor()\n",
    "model_0.fit(X_train, y_g_0_train)\n",
    "\n",
    "#Predict using your model\n",
    "y_g_0_train_preds =model_0.predict(X_train)\n",
    "y_g_0_test_preds = model_0.predict(X_test)\n",
    "\n",
    "#Score using your model\n",
    "train_0_score = r2_score(y_g_0_train, y_g_0_train_preds)\n",
    "test_0_score = r2_score(y_g_0_test, y_g_0_test_preds)\n",
    "\n",
    "train_0_mad = mad(y_g_0_train, np.round(y_g_0_train_preds))\n",
    "test_0_mad = mad(y_g_0_test, np.round(y_g_0_test_preds))\n",
    "\n",
    "print(\"The rsquared on the training data was {}.  The rsquared on the test data was {}.\".format(train_0_score, test_0_score))\n",
    "print(\"The mad on the training data was {}.  The mad on the test data was {}.\".format(train_0_mad, test_0_mad))"
   ]
  },
  {
   "cell_type": "code",
   "execution_count": 70,
   "metadata": {},
   "outputs": [
    {
     "name": "stdout",
     "output_type": "stream",
     "text": [
      "The rsquared on the training data was 0.25528755336783837.  The rsquared on the test data was 0.14675757340459916.\n",
      "The mad on the training data was 0.17716049382716048.  The mad on the test data was 0.21052066559312937.\n"
     ]
    }
   ],
   "source": [
    "model_1 = lgm.LGBMRegressor()\n",
    "model_1.fit(X_train, y_g_1_train)\n",
    "\n",
    "#Predict using your model\n",
    "y_g_1_train_preds =model_1.predict(X_train)\n",
    "y_g_1_test_preds = model_1.predict(X_test)\n",
    "\n",
    "#Score using your model\n",
    "train_1_score = r2_score(y_g_1_train, y_g_1_train_preds)\n",
    "test_1_score = r2_score(y_g_1_test, y_g_1_test_preds)\n",
    "\n",
    "train_1_mad = mad(y_g_1_train, np.round(y_g_1_train_preds))\n",
    "test_1_mad = mad(y_g_1_test, np.round(y_g_1_test_preds))\n",
    "\n",
    "print(\"The rsquared on the training data was {}.  The rsquared on the test data was {}.\".format(train_1_score, test_1_score))\n",
    "print(\"The mad on the training data was {}.  The mad on the test data was {}.\".format(train_1_mad, test_1_mad))"
   ]
  },
  {
   "cell_type": "code",
   "execution_count": 71,
   "metadata": {},
   "outputs": [
    {
     "name": "stdout",
     "output_type": "stream",
     "text": [
      "The rsquared on the training data was 0.2868416925339803.  The rsquared on the test data was 0.1965755974962029.\n",
      "The mad on the training data was 0.2286634460547504.  The mad on the test data was 0.2691358024691358.\n"
     ]
    }
   ],
   "source": [
    "model_2 = lgm.LGBMRegressor()\n",
    "model_2.fit(X_train, y_g_2_train)\n",
    "\n",
    "#Predict using your model\n",
    "y_g_2_train_preds =model_2.predict(X_train)\n",
    "y_g_2_test_preds = model_2.predict(X_test)\n",
    "\n",
    "#Score using your model\n",
    "train_2_score = r2_score(y_g_2_train, y_g_2_train_preds)\n",
    "test_2_score = r2_score(y_g_2_test, y_g_2_test_preds)\n",
    "\n",
    "train_2_mad = mad(y_g_2_train, np.round(y_g_2_train_preds))\n",
    "test_2_mad = mad(y_g_2_test, np.round(y_g_2_test_preds))\n",
    "\n",
    "print(\"The rsquared on the training data was {}.  The rsquared on the test data was {}.\".format(train_2_score, test_2_score))\n",
    "print(\"The mad on the training data was {}.  The mad on the test data was {}.\".format(train_2_mad, test_2_mad))"
   ]
  },
  {
   "cell_type": "code",
   "execution_count": 72,
   "metadata": {},
   "outputs": [
    {
     "name": "stdout",
     "output_type": "stream",
     "text": [
      "The rsquared on the training data was 0.3004809743059508.  The rsquared on the test data was 0.20857350983422607.\n",
      "The mad on the training data was 0.21994095544820183.  The mad on the test data was 0.2558239398819109.\n"
     ]
    }
   ],
   "source": [
    "model_3 = lgm.LGBMRegressor()\n",
    "model_3.fit(X_train, y_g_3_train)\n",
    "\n",
    "#Predict using your model\n",
    "y_g_3_train_preds =model_3.predict(X_train)\n",
    "y_g_3_test_preds = model_3.predict(X_test)\n",
    "\n",
    "#Score using your model\n",
    "train_3_score = r2_score(y_g_3_train, y_g_3_train_preds)\n",
    "test_3_score = r2_score(y_g_3_test, y_g_3_test_preds)\n",
    "\n",
    "train_3_mad = mad(y_g_3_train, np.round(y_g_3_train_preds))\n",
    "test_3_mad = mad(y_g_3_test, np.round(y_g_3_test_preds))\n",
    "\n",
    "print(\"The rsquared on the training data was {}.  The rsquared on the test data was {}.\".format(train_3_score, test_3_score))\n",
    "print(\"The mad on the training data was {}.  The mad on the test data was {}.\".format(train_3_mad, test_3_mad))"
   ]
  },
  {
   "cell_type": "code",
   "execution_count": 73,
   "metadata": {},
   "outputs": [],
   "source": [
    "def categorical_prob(y_g_0_preds,y_g_1_preds,y_g_2_preds,y_g_3_preds):\n",
    "    y_0 = 1 - y_g_0_preds\n",
    "    y_1 = 1 - y_g_1_preds - y_0\n",
    "    y_2 = 1 - y_g_2_preds - y_0 - y_1\n",
    "    y_3 = 1 - y_g_3_preds - y_0 - y_1 - y_2\n",
    "    y_4 = 1 - y_0 - y_1 - y_2 - y_3\n",
    "#     y_4 = y_g_3_preds\n",
    "#     y_3 = y_g_2_preds - y_4\n",
    "#     y_2 = y_g_1_preds - y_4 - y_3\n",
    "#     y_1 = y_g_0_preds - y_4 - y_3 - y_2 \n",
    "#     y_0 = 1 - y_1 - y_2 - y_3 - y_4\n",
    "    y_normalize = y_0 + y_1 + y_2 + y_3 + y_4\n",
    "    for i in range(len(y_0)):\n",
    "        y_0[i] = y_0[i] / y_normalize[i]\n",
    "        y_1[i] = y_1[i] / y_normalize[i]\n",
    "        y_2[i] = y_2[i] / y_normalize[i]\n",
    "        y_3[i] = y_3[i] / y_normalize[i]\n",
    "        y_4[i] = y_4[i] / y_normalize[i]\n",
    "    return y_0, y_1, y_2, y_3, y_4"
   ]
  },
  {
   "cell_type": "code",
   "execution_count": 74,
   "metadata": {},
   "outputs": [],
   "source": [
    "y_0_test, y_1_test, y_2_test, y_3_test, y_4_test = categorical_prob(y_g_0_test_preds, y_g_1_test_preds, y_g_2_test_preds, y_g_3_test_preds)"
   ]
  },
  {
   "cell_type": "code",
   "execution_count": 75,
   "metadata": {},
   "outputs": [],
   "source": [
    "for i in range(0,len(y_0_test)):\n",
    "    if y_0_test[i] + y_1_test[i] + y_2_test[i] + y_3_test[i] + y_4_test[i] != 1:\n",
    "        print(\"Sometring smells fishy!\")"
   ]
  },
  {
   "cell_type": "code",
   "execution_count": 83,
   "metadata": {},
   "outputs": [
    {
     "data": {
      "text/plain": [
       "0.8582930756843801"
      ]
     },
     "execution_count": 83,
     "metadata": {},
     "output_type": "execute_result"
    }
   ],
   "source": [
    "prediction = np.empty_like(y_0_test)\n",
    "\n",
    "for i in range(len(prediction)):\n",
    "    heighest = y_0_test[i]\n",
    "    prediction[i]=0\n",
    "    if heighest < y_1_test[i]:\n",
    "        heighest = y_1_test[i]\n",
    "        prediction[i]=1\n",
    "    if heighest < y_2_test[i]:\n",
    "        heighest = y_2_test[i]\n",
    "        prediction[i]=2\n",
    "    if heighest < y_3_test[i]:\n",
    "        heighest = y_3_test[i]\n",
    "        prediction[i]=3\n",
    "    if heighest < y_4_test[i]:\n",
    "        heighest = y_4_test[i]\n",
    "        prediction[i]=4\n",
    "        \n",
    "        \n",
    "mad(prediction, y_test)"
   ]
  },
  {
   "cell_type": "code",
   "execution_count": 84,
   "metadata": {},
   "outputs": [
    {
     "data": {
      "text/plain": [
       "[654, 1492, 1032, 3159, 2978]"
      ]
     },
     "execution_count": 84,
     "metadata": {},
     "output_type": "execute_result"
    }
   ],
   "source": [
    "[np.sum(y_test == 0) , np.sum(y_test == 1), np.sum(y_test == 2), np.sum(y_test == 3), np.sum(y_test == 4)]"
   ]
  },
  {
   "cell_type": "code",
   "execution_count": 85,
   "metadata": {},
   "outputs": [
    {
     "data": {
      "text/plain": [
       "[145, 931, 156, 4619, 3464]"
      ]
     },
     "execution_count": 85,
     "metadata": {},
     "output_type": "execute_result"
    }
   ],
   "source": [
    "[np.sum(prediction == 0) , np.sum(prediction == 1), np.sum(prediction == 2), np.sum(prediction == 3), np.sum(prediction == 4)]"
   ]
  },
  {
   "cell_type": "code",
   "execution_count": null,
   "metadata": {},
   "outputs": [],
   "source": []
  },
  {
   "cell_type": "code",
   "execution_count": null,
   "metadata": {},
   "outputs": [],
   "source": []
  },
  {
   "cell_type": "code",
   "execution_count": null,
   "metadata": {},
   "outputs": [],
   "source": []
  },
  {
   "cell_type": "code",
   "execution_count": 81,
   "metadata": {},
   "outputs": [
    {
     "data": {
      "text/plain": [
       "0.8264090177133655"
      ]
     },
     "execution_count": 81,
     "metadata": {},
     "output_type": "execute_result"
    }
   ],
   "source": [
    "prediction_2 = np.round(y_test_preds + corrector)\n",
    "mad(prediction_2, y_test)"
   ]
  },
  {
   "cell_type": "code",
   "execution_count": 82,
   "metadata": {},
   "outputs": [
    {
     "data": {
      "text/plain": [
       "[0, 178, 1991, 5637, 1509]"
      ]
     },
     "execution_count": 82,
     "metadata": {},
     "output_type": "execute_result"
    }
   ],
   "source": [
    "[np.sum(prediction_2 == 0) , np.sum(prediction_2 == 1), np.sum(prediction_2 == 2), np.sum(prediction_2 == 3), np.sum(prediction_2 == 4)]"
   ]
  },
  {
   "cell_type": "code",
   "execution_count": null,
   "metadata": {},
   "outputs": [],
   "source": []
  }
 ],
 "metadata": {
  "kernelspec": {
   "display_name": "Python 3",
   "language": "python",
   "name": "python3"
  },
  "language_info": {
   "codemirror_mode": {
    "name": "ipython",
    "version": 3
   },
   "file_extension": ".py",
   "mimetype": "text/x-python",
   "name": "python",
   "nbconvert_exporter": "python",
   "pygments_lexer": "ipython3",
   "version": "3.7.3"
  }
 },
 "nbformat": 4,
 "nbformat_minor": 4
}
